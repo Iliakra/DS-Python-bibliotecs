{
 "cells": [
  {
   "cell_type": "code",
   "execution_count": 1,
   "id": "cd88e36c",
   "metadata": {},
   "outputs": [
    {
     "data": {
      "text/plain": [
       "array([[-1, -2],\n",
       "       [ 0,  0],\n",
       "       [ 1,  3],\n",
       "       [ 1,  2],\n",
       "       [-1, -1]])"
      ]
     },
     "execution_count": 1,
     "metadata": {},
     "output_type": "execute_result"
    }
   ],
   "source": [
    "import numpy as np\n",
    "\n",
    "a = np.array([[1,6], [2,8], [3,11], [3,10], [1,7]])\n",
    "\n",
    "mean_a = np.mean(a, axis = 0, dtype = int)\n",
    "\n",
    "a_centered = a - mean_a\n",
    "\n",
    "a_centered"
   ]
  },
  {
   "cell_type": "code",
   "execution_count": 2,
   "id": "751c23fb",
   "metadata": {},
   "outputs": [
    {
     "data": {
      "text/plain": [
       "(array([-1,  0,  1,  1, -1]), array([-2,  0,  3,  2, -1]))"
      ]
     },
     "execution_count": 2,
     "metadata": {},
     "output_type": "execute_result"
    }
   ],
   "source": [
    "col_1 = a_centered[:, 0]\n",
    "\n",
    "col_2 = a_centered[:, 1]\n",
    "\n",
    "col_1, col_2\n"
   ]
  },
  {
   "cell_type": "code",
   "execution_count": 4,
   "id": "9f9d7a56",
   "metadata": {},
   "outputs": [
    {
     "data": {
      "text/plain": [
       "8"
      ]
     },
     "execution_count": 4,
     "metadata": {},
     "output_type": "execute_result"
    }
   ],
   "source": [
    "a_centered_sp = np.dot(col_1, col_2)\n",
    "\n",
    "a_centered_sp"
   ]
  },
  {
   "cell_type": "code",
   "execution_count": 6,
   "id": "79bb58dd",
   "metadata": {},
   "outputs": [
    {
     "data": {
      "text/plain": [
       "2.0"
      ]
     },
     "execution_count": 6,
     "metadata": {},
     "output_type": "execute_result"
    }
   ],
   "source": [
    "result = a_centered_sp / (len(a_centered) - 1)\n",
    "\n",
    "result"
   ]
  },
  {
   "cell_type": "code",
   "execution_count": null,
   "id": "d625c700",
   "metadata": {},
   "outputs": [],
   "source": []
  }
 ],
 "metadata": {
  "kernelspec": {
   "display_name": "Python 3",
   "language": "python",
   "name": "python3"
  },
  "language_info": {
   "codemirror_mode": {
    "name": "ipython",
    "version": 3
   },
   "file_extension": ".py",
   "mimetype": "text/x-python",
   "name": "python",
   "nbconvert_exporter": "python",
   "pygments_lexer": "ipython3",
   "version": "3.8.8"
  }
 },
 "nbformat": 4,
 "nbformat_minor": 5
}
